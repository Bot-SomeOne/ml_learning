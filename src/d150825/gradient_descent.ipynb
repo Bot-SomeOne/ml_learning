{
 "cells": [
  {
   "cell_type": "code",
   "execution_count": null,
   "id": "cb2ca171",
   "metadata": {},
   "outputs": [],
   "source": [
    "n = 0.1\n",
    "# x0 = -4\n",
    "def f(x):\n",
    "    return x - n*(x - 1)\n",
    "\n",
    "x = [-4]\n",
    "input = 1\n",
    "for i in range(input):\n",
    "    x.append(f(x[-1]))\n",
    "print(x[input])"
   ]
  },
  {
   "cell_type": "code",
   "execution_count": null,
   "id": "26ab66f3",
   "metadata": {},
   "outputs": [],
   "source": [
    "import math\n",
    "\n",
    "# x^2 + 5*sin(x)\n",
    "n = 0.1\n",
    "def f(x):\n",
    "    return x - n*(2*x + 5*math.cos(x))\n",
    "\n",
    "x = [-4]\n",
    "input = 1000\n",
    "for i in range(input):\n",
    "    x.append(f(x[-1]))\n",
    "print(x[input])"
   ]
  },
  {
   "cell_type": "code",
   "execution_count": null,
   "id": "c58d230c",
   "metadata": {},
   "outputs": [],
   "source": [
    "import math\n",
    "\n",
    "# -22*x^2 + 22*x*y - 11*y^2 + 110x - 44y -23\n",
    "# ->f'x -44*x + 22*y - 11*y^2 + 110x\n",
    "# ->f'y -44*y + 22*x - 22*y + 110x -44\n",
    "n = 0.1\n",
    "def fx(x, y):\n",
    "    return x - n*(-44*x + 22*y - 11*y*y + 110*x)\n",
    "def fy(x, y):\n",
    "    return y - n*(-44*y + 22*x - 22*y + 110*x -44)\n",
    "\n",
    "x = [-4]\n",
    "y = [-4]\n",
    "loop = 1000\n",
    "for i in range(loop):\n",
    "    grad_x = fx(x[-1], y[-1])\n",
    "    grad_y = fy(x[-1], y[-1])\n",
    "    print(grad_x, grad_y)\n",
    "    x.append(grad_x)\n",
    "    y.append(grad_y)\n",
    "\n"
   ]
  }
 ],
 "metadata": {
  "kernelspec": {
   "display_name": "machine_learning",
   "language": "python",
   "name": "python3"
  },
  "language_info": {
   "codemirror_mode": {
    "name": "ipython",
    "version": 3
   },
   "file_extension": ".py",
   "mimetype": "text/x-python",
   "name": "python",
   "nbconvert_exporter": "python",
   "pygments_lexer": "ipython3",
   "version": "3.13.5"
  }
 },
 "nbformat": 4,
 "nbformat_minor": 5
}
